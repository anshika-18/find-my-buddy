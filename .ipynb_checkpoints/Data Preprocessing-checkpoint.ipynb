{
 "cells": [
  {
   "cell_type": "code",
   "execution_count": null,
   "id": "eef42a07",
   "metadata": {},
   "outputs": [],
   "source": [
    "import pandas as pd\n",
    "import numpy as np"
   ]
  },
  {
   "cell_type": "code",
   "execution_count": null,
   "id": "c68c4b50",
   "metadata": {},
   "outputs": [],
   "source": [
    "songs_data=pd.read_csv(\"./data.csv\")"
   ]
  },
  {
   "cell_type": "code",
   "execution_count": null,
   "id": "0dc4b728",
   "metadata": {},
   "outputs": [],
   "source": [
    "songs_data.head()"
   ]
  },
  {
   "cell_type": "code",
   "execution_count": null,
   "id": "f59a647f",
   "metadata": {},
   "outputs": [],
   "source": [
    "numerical_features=['year','bpm','nrgy','dnce','dB','live','val','dur','acous','spch','pop']"
   ]
  },
  {
   "cell_type": "code",
   "execution_count": null,
   "id": "ad604dfe",
   "metadata": {},
   "outputs": [],
   "source": [
    "for x in numerical_features:\n",
    "    range=songs_data[x].max()-songs_data[x].min()\n",
    "    songs_data[x]=songs_data[x].apply(lambda y: ((y-songs_data[x].min())*5)/(range))\n",
    "\n",
    "songs_data"
   ]
  },
  {
   "cell_type": "code",
   "execution_count": null,
   "id": "76e55d5c",
   "metadata": {},
   "outputs": [],
   "source": [
    "features=['artist','top genre','year','bpm','nrgy','dnce','dB','live','val','dur','acous','spch','pop']\n",
    "features_matrix = songs_data[features]\n",
    "features_matrix"
   ]
  },
  {
   "cell_type": "code",
   "execution_count": null,
   "id": "e388d7d8",
   "metadata": {},
   "outputs": [],
   "source": [
    "%store songs_data"
   ]
  }
 ],
 "metadata": {
  "kernelspec": {
   "display_name": "Python 3 (ipykernel)",
   "language": "python",
   "name": "python3"
  },
  "language_info": {
   "codemirror_mode": {
    "name": "ipython",
    "version": 3
   },
   "file_extension": ".py",
   "mimetype": "text/x-python",
   "name": "python",
   "nbconvert_exporter": "python",
   "pygments_lexer": "ipython3",
   "version": "3.9.12"
  }
 },
 "nbformat": 4,
 "nbformat_minor": 5
}
