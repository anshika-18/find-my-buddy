{
 "cells": [
  {
   "cell_type": "code",
   "execution_count": 55,
   "id": "faa421d6",
   "metadata": {},
   "outputs": [],
   "source": [
    "%store -r songs_data\n",
    "%store -r similarity_matrix"
   ]
  },
  {
   "cell_type": "code",
   "execution_count": 56,
   "id": "0683e6bb",
   "metadata": {},
   "outputs": [],
   "source": [
    "#user_favourites, username\n",
    "user_favourites = [[\"abc\", [\"Hey, Soul Sister\", \"Bad Romance\", \"Nothing Breaks Like a Heart (feat. Miley Cyrus)\"]], [\"def\", [\"Love The Way You Lie\", \"Find U Again (feat. Camila Cabello)\", \"TiK ToK\"]]]\n",
    "username = \"def\";"
   ]
  },
  {
   "cell_type": "code",
   "execution_count": 57,
   "id": "949c8144",
   "metadata": {},
   "outputs": [],
   "source": [
    "# find index of current user\n",
    "for user_idx in range(len(user_favourites)):\n",
    "    if user_favourites[user_idx][0] == username : break;"
   ]
  },
  {
   "cell_type": "code",
   "execution_count": 61,
   "id": "67ee5ac1",
   "metadata": {},
   "outputs": [],
   "source": [
    "users_match_list = []\n",
    "\n",
    "for user in user_favourites :\n",
    "    if user[0] == username : continue;\n",
    "    \n",
    "    score = 0\n",
    "    for favourite in user_favourites[user_idx][1] :\n",
    "        index1 = songs_data.index[songs_data['title'] == favourite].values[0]\n",
    "        \n",
    "        similarity = 0\n",
    "        for current_user_fav in user[1] :\n",
    "            index2 = songs_data.index[songs_data['title'] == current_user_fav].values[0]\n",
    "            similarity = max(similarity, similarity_matrix[index1][index2])\n",
    "        \n",
    "        score += similarity\n",
    "    \n",
    "    users_match_list.append([user[0], (score/5)*100])"
   ]
  },
  {
   "cell_type": "code",
   "execution_count": 59,
   "id": "ba1d07db",
   "metadata": {},
   "outputs": [],
   "source": [
    "def sort_by_score (val) : \n",
    "    return val[1]\n",
    "users_match_list.sort(key=sort_by_score, reverse=True)"
   ]
  },
  {
   "cell_type": "code",
   "execution_count": 60,
   "id": "1f4c7383",
   "metadata": {},
   "outputs": [
    {
     "data": {
      "text/plain": [
       "[['abc', 59.30978683855991]]"
      ]
     },
     "execution_count": 60,
     "metadata": {},
     "output_type": "execute_result"
    }
   ],
   "source": [
    "users_match_list"
   ]
  }
 ],
 "metadata": {
  "kernelspec": {
   "display_name": "Python 3 (ipykernel)",
   "language": "python",
   "name": "python3"
  },
  "language_info": {
   "codemirror_mode": {
    "name": "ipython",
    "version": 3
   },
   "file_extension": ".py",
   "mimetype": "text/x-python",
   "name": "python",
   "nbconvert_exporter": "python",
   "pygments_lexer": "ipython3",
   "version": "3.9.12"
  }
 },
 "nbformat": 4,
 "nbformat_minor": 5
}
